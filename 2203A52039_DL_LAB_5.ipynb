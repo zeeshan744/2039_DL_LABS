{
  "nbformat": 4,
  "nbformat_minor": 0,
  "metadata": {
    "colab": {
      "provenance": []
    },
    "kernelspec": {
      "name": "python3",
      "display_name": "Python 3"
    },
    "language_info": {
      "name": "python"
    }
  },
  "cells": [
    {
      "cell_type": "code",
      "execution_count": 1,
      "metadata": {
        "colab": {
          "base_uri": "https://localhost:8080/"
        },
        "id": "kIBgjEl_TIji",
        "outputId": "8041f960-f0f5-40b4-cb86-2308817c638b"
      },
      "outputs": [
        {
          "output_type": "stream",
          "name": "stdout",
          "text": [
            "Epoch 0, MSE: 0.061705519532172785\n",
            "Epoch 1000, MSE: 1.0950729480152149e-05\n",
            "Epoch 2000, MSE: 3.496379081994137e-06\n",
            "Epoch 3000, MSE: 2.930933439390745e-06\n",
            "Epoch 4000, MSE: 2.5901151012134024e-06\n",
            "Epoch 5000, MSE: 2.292915733099337e-06\n",
            "Epoch 6000, MSE: 2.029950905787219e-06\n",
            "Epoch 7000, MSE: 1.7971621605649795e-06\n",
            "Epoch 8000, MSE: 1.5910819019858498e-06\n",
            "Epoch 9000, MSE: 1.4086445340206595e-06\n",
            "Test MSE: 4.445377349389475e-06\n",
            "Enter x1: 10\n",
            "Enter x2: 20\n",
            "Enter x3: 30\n",
            "Predicted Output: 0.9999996118047808\n"
          ]
        }
      ],
      "source": [
        "import numpy as np\n",
        "def sigmoid(x):\n",
        "    return 1 / (1 + np.exp(-x))\n",
        "def sigmoid_derivative(x):\n",
        "    return x * (1 - x)\n",
        "X_train = np.array([\n",
        "    [0.1, 0.2, 0.3],\n",
        "    [0.2, 0.3, 0.4],\n",
        "    [0.3, 0.4, 0.5],\n",
        "    [0.5, 0.6, 0.7],\n",
        "    [0.1, 0.3, 0.5],\n",
        "    [0.2, 0.4, 0.6],\n",
        "    [0.3, 0.5, 0.7],\n",
        "    [0.4, 0.6, 0.8],\n",
        "    [0.5, 0.7, 0.1]\n",
        "])\n",
        "y_train = np.array([[0.5349], [0.5498], [0.5646], [0.5939], [0.5548], [0.5695], [0.5842], [0.5987], [0.5548]])\n",
        "np.random.seed(42)\n",
        "weights = np.random.rand(3, 1)\n",
        "bias = np.random.rand(1)\n",
        "\n",
        "lr = 0.1\n",
        "\n",
        "epochs = 10000\n",
        "for epoch in range(epochs):\n",
        "\n",
        "    z = np.dot(X_train, weights) + bias\n",
        "    output = sigmoid(z)\n",
        "\n",
        "\n",
        "    error = y_train - output\n",
        "    mse = np.mean(error ** 2)\n",
        "\n",
        "\n",
        "    d_output = error * sigmoid_derivative(output)\n",
        "    weights += lr * np.dot(X_train.T, d_output)\n",
        "    bias += lr * np.sum(d_output)\n",
        "\n",
        "    if epoch % 1000 == 0:\n",
        "        print(f'Epoch {epoch}, MSE: {mse}')\n",
        "\n",
        "\n",
        "X_test = np.array([\n",
        "    [0.6, 0.7, 0.8],\n",
        "    [0.7, 0.8, 0.9]\n",
        "])\n",
        "y_test = np.array([[0.6083], [0.6225]])\n",
        "\n",
        "\n",
        "predictions = sigmoid(np.dot(X_test, weights) + bias)\n",
        "test_mse = np.mean((y_test - predictions) ** 2)\n",
        "print(f'Test MSE: {test_mse}')\n",
        "\n",
        "\n",
        "x_input = np.array([float(input(f'Enter x{i+1}: ')) for i in range(3)]).reshape(1, -1)\n",
        "user_prediction = sigmoid(np.dot(x_input, weights) + bias)\n",
        "print(f'Predicted Output: {user_prediction[0][0]}')"
      ]
    },
    {
      "cell_type": "code",
      "source": [],
      "metadata": {
        "id": "vhJEfXb0TK0A"
      },
      "execution_count": null,
      "outputs": []
    }
  ]
}