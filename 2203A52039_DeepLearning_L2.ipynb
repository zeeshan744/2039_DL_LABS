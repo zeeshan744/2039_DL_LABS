{
  "nbformat": 4,
  "nbformat_minor": 0,
  "metadata": {
    "colab": {
      "provenance": []
    },
    "kernelspec": {
      "name": "python3",
      "display_name": "Python 3"
    },
    "language_info": {
      "name": "python"
    }
  },
  "cells": [
    {
      "cell_type": "code",
      "execution_count": null,
      "metadata": {
        "colab": {
          "base_uri": "https://localhost:8080/"
        },
        "id": "eRX4fdc5Hf8f",
        "outputId": "c82b9cc3-9b2b-43a3-c2f3-9e00c124da66"
      },
      "outputs": [
        {
          "output_type": "stream",
          "name": "stdout",
          "text": [
            "Maximum profit: Rs 27.00\n",
            "Number of chocolates A: 2.00\n",
            "Number of chocolates B: 3.00\n"
          ]
        }
      ],
      "source": [
        "from scipy.optimize import linprog\n",
        "objective = [-6, -5]\n",
        "lhs_ineq = [\n",
        "    [1, 1],\n",
        "    [3, 2]\n",
        "]\n",
        "rhs_ineq = [5, 12]\n",
        "bounds = [(0, None), (0, None)]\n",
        "result = linprog(c=objective, A_ub=lhs_ineq, b_ub=rhs_ineq, bounds=bounds, method=\"highs\")\n",
        "if result.success:\n",
        "    print(f\"Maximum profit: Rs {-result.fun:.2f}\")\n",
        "    print(f\"Number of chocolates A: {result.x[0]:.2f}\")\n",
        "    print(f\"Number of chocolates B: {result.x[1]:.2f}\")\n",
        "else:\n",
        "    print(\"No solution found.\")"
      ]
    },
    {
      "cell_type": "code",
      "source": [
        "from scipy.optimize import linprog\n",
        "objective = [-50, -120]\n",
        "lhs_ineq = [\n",
        "    [1, 1],\n",
        "    [7000, 2000],\n",
        "    [10, 30]\n",
        "]\n",
        "rhs_ineq = [100, 700000, 1200]\n",
        "bounds = [(0, None), (0, None)]\n",
        "result = linprog(c=objective, A_ub=lhs_ineq, b_ub=rhs_ineq, bounds=bounds, method=\"highs\")\n",
        "if result.success:\n",
        "    print(f\"Maximum profit: Rs {-result.fun:.2f}\")\n",
        "    print(f\"Optimal area for Wheat: {result.x[0]:.2f} hectares\")\n",
        "    print(f\"Optimal area for Barley: {result.x[1]:.2f} hectares\")\n",
        "else:\n",
        "    print(\"No solution found.\")"
      ],
      "metadata": {
        "colab": {
          "base_uri": "https://localhost:8080/"
        },
        "id": "geMAygA2JGmR",
        "outputId": "7d863580-29d2-4be2-c852-85a2b936fe3f"
      },
      "execution_count": null,
      "outputs": [
        {
          "output_type": "stream",
          "name": "stdout",
          "text": [
            "Maximum profit: Rs 5700.00\n",
            "Optimal area for Wheat: 90.00 hectares\n",
            "Optimal area for Barley: 10.00 hectares\n"
          ]
        }
      ]
    }
  ]
}